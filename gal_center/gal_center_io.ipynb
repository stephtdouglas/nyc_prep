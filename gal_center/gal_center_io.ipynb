{
 "cells": [
  {
   "cell_type": "code",
   "execution_count": 1,
   "metadata": {
    "collapsed": true
   },
   "outputs": [],
   "source": [
    "#import two very useful libraries and give them common abbreviations\n",
    "import matplotlib.pyplot as plt\n",
    "import numpy as np"
   ]
  },
  {
   "cell_type": "code",
   "execution_count": 2,
   "metadata": {
    "collapsed": true
   },
   "outputs": [],
   "source": [
    "\"\"\"\n",
    "use the loadtxt routine to import the CSV file containing all of the \n",
    "information on the orbital motion of the stars around Sgr A*. \n",
    "Each parameter (or error on the parameter) is placed into an array \n",
    "(like a matrix) with a name that corresponds to the given parameter.\n",
    "\"\"\"\n",
    "index, star, a_arcsec, a_arcsec_err, a_AU, a_AU_err, ecc, ecc_err, inc, inc_err, Omega, Omega_err, omega, omega_err, t_P, t_P_err, period, period_err, m_K, r, mass_BH, mass_BH_err = np.loadtxt('SgrAStarTable.csv', delimiter=',', skiprows=1, unpack=True)"
   ]
  },
  {
   "cell_type": "code",
   "execution_count": 3,
   "metadata": {
    "collapsed": false
   },
   "outputs": [
    {
     "name": "stdout",
     "output_type": "stream",
     "text": [
      "(4231.6400000000003, 132.0, 4348888.5559999999)\n"
     ]
    }
   ],
   "source": [
    "#individual values of each array can be called using the index in square brackets\n",
    "print(a_AU[0],period[0],mass_BH[0])"
   ]
  },
  {
   "cell_type": "code",
   "execution_count": 5,
   "metadata": {
    "collapsed": true
   },
   "outputs": [],
   "source": [
    "# Calculate uncertainties on a^3 (in AU^3) and P^2 (in yr^2)\n",
    "p2_err = np.abs(2 * period * period_err) # propogate the errors\n",
    "a3_err = np.abs(3 * a_AU**2 * a_AU_err) # propogate the errors"
   ]
  }
 ],
 "metadata": {
  "kernelspec": {
   "display_name": "Python 2",
   "language": "python",
   "name": "python2"
  },
  "language_info": {
   "codemirror_mode": {
    "name": "ipython",
    "version": 2
   },
   "file_extension": ".py",
   "mimetype": "text/x-python",
   "name": "python",
   "nbconvert_exporter": "python",
   "pygments_lexer": "ipython2",
   "version": "2.7.9"
  }
 },
 "nbformat": 4,
 "nbformat_minor": 0
}
