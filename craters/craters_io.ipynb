{
 "cells": [
  {
   "cell_type": "code",
   "execution_count": 3,
   "metadata": {
    "collapsed": true
   },
   "outputs": [],
   "source": [
    "import astropy.io.ascii as at"
   ]
  },
  {
   "cell_type": "code",
   "execution_count": 4,
   "metadata": {
    "collapsed": true
   },
   "outputs": [],
   "source": [
    "def read_binned_craters():\n",
    "    \"\"\"read in cratering data and return crater_diameters, crater_count, count_error.\"\"\"\n",
    "    craters = at.read(\"crater_data.csv\")\n",
    "    crater_diameters = craters[\"Diam(km)\"]\n",
    "    crater_count = craters[\"count_per_million_km\"]\n",
    "    count_error = craters[\"count_error\"]\n",
    "    return crater_diameters, crater_count, count_error"
   ]
  },
  {
   "cell_type": "code",
   "execution_count": 5,
   "metadata": {
    "collapsed": true
   },
   "outputs": [],
   "source": [
    "def read_crater_diams():\n",
    "    \"\"\"read in crater diameters and uncertainties\"\"\"\n",
    "    craters = at.read(\"craters_250000sqkm.csv\")\n",
    "    crater_diams,crater_diam_errs = craters[\"Diam(km)\"], craters[\"Diam_err(km)\"]\n",
    "    return crater_diams,crater_diam_errs"
   ]
  },
  {
   "cell_type": "code",
   "execution_count": 6,
   "metadata": {
    "collapsed": true
   },
   "outputs": [],
   "source": [
    "def isochrones_dict():\n",
    "    \"\"\"read isochrone data and save as a dictionary\"\"\"\n",
    "    isoc = at.read(\"crater_isochrones.csv\")\n",
    "    isochrones = {\"diameter\":isoc[\"Diam(km)\"],\n",
    "                  \"3.0Gyr\":isoc[\"3.0Gyr\"],\n",
    "                  \"3.5Gyr\":isoc[\"3.5Gyr\"],\n",
    "                  \"3.7Gyr\":isoc[\"3.7Gyr\"],\n",
    "                  \"4.0Gyr\":isoc[\"4.0Gyr\"],\n",
    "                  }\n",
    "    return isochrones"
   ]
  },
  {
   "cell_type": "code",
   "execution_count": 7,
   "metadata": {
    "collapsed": false
   },
   "outputs": [],
   "source": [
    "def isochrones_recarray():\n",
    "    \"\"\"read isochrone data and return the record array\"\"\"\n",
    "    return at.read(\"crater_ioschrones.csv\")"
   ]
  }
 ],
 "metadata": {
  "kernelspec": {
   "display_name": "Python 2",
   "language": "python",
   "name": "python2"
  },
  "language_info": {
   "codemirror_mode": {
    "name": "ipython",
    "version": 2
   },
   "file_extension": ".py",
   "mimetype": "text/x-python",
   "name": "python",
   "nbconvert_exporter": "python",
   "pygments_lexer": "ipython2",
   "version": "2.7.9"
  }
 },
 "nbformat": 4,
 "nbformat_minor": 0
}
