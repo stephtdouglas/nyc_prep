{
 "cells": [
  {
   "cell_type": "code",
   "execution_count": 3,
   "metadata": {
    "collapsed": false
   },
   "outputs": [],
   "source": [
    "#z, mu, mu_err = loadtxt('/Users/Shark/Desktop/PDP stuff/HubbleData/Davis07_R07_WV07.txt', unpack=True, usecols = [1,2,3])\n",
    "# data set with fewer points\n",
    "# instead of distance modulus, it gives distance in Mpc\n",
    "# and don't use log(z) because these data are at low redshift z<<1\n",
    "z, d, d_err = loadtxt('HubbleData2.dat', unpack=True, usecols=[0,1,2])"
   ]
  },
  {
   "cell_type": "markdown",
   "metadata": {},
   "source": [
    "$z$ is redshift and $d$ is the distance in Mpc"
   ]
  }
 ],
 "metadata": {
  "kernelspec": {
   "display_name": "Python 2",
   "language": "python",
   "name": "python2"
  },
  "language_info": {
   "codemirror_mode": {
    "name": "ipython",
    "version": 2
   },
   "file_extension": ".py",
   "mimetype": "text/x-python",
   "name": "python",
   "nbconvert_exporter": "python",
   "pygments_lexer": "ipython2",
   "version": "2.7.9"
  }
 },
 "nbformat": 4,
 "nbformat_minor": 0
}
