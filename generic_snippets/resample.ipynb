{
 "cells": [
  {
   "cell_type": "code",
   "execution_count": 1,
   "metadata": {
    "collapsed": true
   },
   "outputs": [],
   "source": [
    "#import modules for plotting and math\n",
    "import matplotlib.pyplot as plt\n",
    "import numpy as np\n",
    "#import module for generating random numbers (https://docs.python.org/2/library/random.html)\n",
    "import numpy.random as random"
   ]
  },
  {
   "cell_type": "code",
   "execution_count": 2,
   "metadata": {
    "collapsed": true
   },
   "outputs": [],
   "source": [
    "# add code here to read in and/or define the x and y values and errors of your data"
   ]
  },
  {
   "cell_type": "code",
   "execution_count": null,
   "metadata": {
    "collapsed": true
   },
   "outputs": [],
   "source": [
    "# plot the data with error bars\n",
    "plt.errorbar(x_values, y_values, xerr=x_errors, yerr=y_errors, marker='.',markersize=.9,linestyle='none',color='black')"
   ]
  },
  {
   "cell_type": "code",
   "execution_count": null,
   "metadata": {
    "collapsed": true
   },
   "outputs": [],
   "source": [
    "\n",
    "mux = x_values #mean value of the gaussian function (array of measured values)\n",
    "sigmax =  x_errors #sigma of the gaussian function (array of uncertainties)\n",
    "\n",
    "muy = y_values #mean value of the gaussian function (array of measured values)\n",
    "sigmay =  y_errors #sigma of the gaussian function (array of uncertainties)\n",
    "\n",
    "\n",
    "n_samples = 10 #number of times to repeat the resampling\n",
    "\n",
    "# make zero arrays the dimensions of your data and the number of samples for storing new (resampled) values\n",
    "newxdata=np.zeros((len(mux),n_samples))\n",
    "newydata=np.zeros((len(muy),n_samples))"
   ]
  },
  {
   "cell_type": "code",
   "execution_count": null,
   "metadata": {
    "collapsed": true
   },
   "outputs": [],
   "source": [
    "# rs for \"resample\"\n",
    "for rs in range(n_samples):\n",
    "    # print(rs)\n",
    "    newxdata[:,rs] = random.gauss(mux,sigmax) #resample x values\n",
    "    newydata[:,rs] = random.gauss(muy,sigmay) #resample y values\n",
    "    # print(newxdata[:,rs])\n",
    "    # print(newydata[:,rs])\n",
    "    plt.scatter(newxdata[:,rs],newydata[:,rs],color='red') # plot new data (no error bars)\n",
    "\n",
    "plt.show()"
   ]
  }
 ],
 "metadata": {
  "kernelspec": {
   "display_name": "Python 2",
   "language": "python",
   "name": "python2"
  },
  "language_info": {
   "codemirror_mode": {
    "name": "ipython",
    "version": 2
   },
   "file_extension": ".py",
   "mimetype": "text/x-python",
   "name": "python",
   "nbconvert_exporter": "python",
   "pygments_lexer": "ipython2",
   "version": "2.7.9"
  }
 },
 "nbformat": 4,
 "nbformat_minor": 0
}
