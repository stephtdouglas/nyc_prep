{
 "cells": [
  {
   "cell_type": "code",
   "execution_count": 2,
   "metadata": {
    "collapsed": true
   },
   "outputs": [],
   "source": [
    "import numpy as np\n",
    "import matplotlib\n",
    "%matplotlib inline\n",
    "import matplotlib.pyplot as plt\n",
    "import astropy.io.ascii as at"
   ]
  },
  {
   "cell_type": "code",
   "execution_count": 19,
   "metadata": {
    "collapsed": false
   },
   "outputs": [
    {
     "name": "stdout",
     "output_type": "stream",
     "text": [
      "red  blue green\n",
      "---- ---- -----\n",
      "31.0 30.0    33\n",
      "31.5 29.0    34\n",
      "31.0 29.5    33\n"
     ]
    }
   ],
   "source": [
    "# read in the measurement data\n",
    "measurements = at.read(\"candy_measurements.csv\")\n",
    "colors = [\"red\",\"green\",\"blue\"]\n",
    "print measurements"
   ]
  },
  {
   "cell_type": "code",
   "execution_count": 25,
   "metadata": {
    "collapsed": false
   },
   "outputs": [
    {
     "name": "stdout",
     "output_type": "stream",
     "text": [
      "[[ 31.   33.   30. ]\n",
      " [ 31.5  34.   29. ]\n",
      " [ 31.   33.   29.5]]\n"
     ]
    }
   ],
   "source": [
    "# make an array of all the values to make the histogram call easier later\n",
    "# need to transpose it because histogram plots the array's COLUMNS, \n",
    "# but the list comprehension makes rows\n",
    "separate_measurements = np.array([measurements[c] for c in colors]).T\n",
    "\n",
    "# then combine them for the final histogram\n",
    "all_measurements = separate_measurements.flatten()\n",
    "\n",
    "print separate_measurements"
   ]
  },
  {
   "cell_type": "code",
   "execution_count": 27,
   "metadata": {
    "collapsed": false
   },
   "outputs": [
    {
     "data": {
      "text/plain": [
       "(array([ 0.,  2.,  1.,  3.,  0.,  3.]),\n",
       " array([28, 29, 30, 31, 32, 33, 34]),\n",
       " <a list of 6 Patch objects>)"
      ]
     },
     "execution_count": 27,
     "metadata": {},
     "output_type": "execute_result"
    },
    {
     "data": {
      "image/png": "[encoded data removed]",
      "text/plain": [
       "<matplotlib.figure.Figure at 0x7f498fbb13d0>"
      ]
     },
     "metadata": {},
     "output_type": "display_data"
    }
   ],
   "source": [
    "bins = np.arange(28,35,1)\n",
    "plt.figure(figsize=(9,4))\n",
    "plt.hist(separate_measurements,color=colors,bins=bins)\n",
    "plt.hist(all_measurements,color=\"LightGrey\",bins=bins,zorder=-10)"
   ]
  },
  {
   "cell_type": "code",
   "execution_count": null,
   "metadata": {
    "collapsed": true
   },
   "outputs": [],
   "source": []
  }
 ],
 "metadata": {
  "kernelspec": {
   "display_name": "Python 2",
   "language": "python",
   "name": "python2"
  },
  "language_info": {
   "codemirror_mode": {
    "name": "ipython",
    "version": 2
   },
   "file_extension": ".py",
   "mimetype": "text/x-python",
   "name": "python",
   "nbconvert_exporter": "python",
   "pygments_lexer": "ipython2",
   "version": "2.7.9"
  }
 },
 "nbformat": 4,
 "nbformat_minor": 0
}
