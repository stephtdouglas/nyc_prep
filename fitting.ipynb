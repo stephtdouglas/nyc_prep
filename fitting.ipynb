{
 "cells": [
  {
   "cell_type": "code",
   "execution_count": 49,
   "metadata": {
    "collapsed": false
   },
   "outputs": [],
   "source": [
    "import numpy as np\n",
    "import matplotlib.pyplot as plt\n",
    "from astropy.io import fits as pyfits\n",
    "from scipy.optimize import curve_fit\n",
    "import scipy.odr"
   ]
  },
  {
   "cell_type": "markdown",
   "metadata": {},
   "source": [
    "$z$ is redshift and $d$ is the distance in Mpc"
   ]
  },
  {
   "cell_type": "code",
   "execution_count": null,
   "metadata": {
    "collapsed": true
   },
   "outputs": [],
   "source": [
    "# Define a function for a 'straight line' y=f(x)\n",
    "def f(x, A, B): \n",
    "    return A*x + B"
   ]
  },
  {
   "cell_type": "code",
   "execution_count": null,
   "metadata": {
    "collapsed": true
   },
   "outputs": [],
   "source": [
    "# Fit your data:\n",
    "# Input the function, the x-axis data, the y-axis data, and the error on the dependent variable.\n",
    "# This returns the line parameters A,B\n",
    "# which are the slope and y-intercept of the line.\n",
    "A,B = curve_fit(f,z,d,sigma=d_err)[0] \n",
    "\n",
    "#Note that we fit distance to redshift d(z) instead of redshift to distance z(d). "
   ]
  },
  {
   "cell_type": "code",
   "execution_count": null,
   "metadata": {
    "collapsed": true
   },
   "outputs": [],
   "source": [
    "# Now fit a line incorporating y errors with the orthogonal distance regression (ODR) routine.\n",
    "\n",
    "# We need an alternate definition of the line- B is a vector of the parameters.\n",
    "def f(B, x):\n",
    "    return B[0]*x + B[1]"
   ]
  },
  {
   "cell_type": "code",
   "execution_count": null,
   "metadata": {
    "collapsed": true
   },
   "outputs": [],
   "source": [
    "# now fit with orthogonal distance regression (odr) - using both dimensions of error\n",
    "# A Model object stores information about the model you wish to fit (in this case a line)\n",
    "linear_model = scipy.odr.Model(f) #create a model\n",
    "mydata = scipy.odr.RealData(z, d, sx=z_err, sy=d_err) # Create a data instance (?)\n"
   ]
  },
  {
   "cell_type": "code",
   "execution_count": null,
   "metadata": {
    "collapsed": true
   },
   "outputs": [],
   "source": [
    "'''\n",
    "beta is the array of your parameters:\n",
    "for a line, \n",
    "B[0] = slope\n",
    "B[1] = y-intercept\n",
    "beta0 is the array of your initial guesses for the each parameter. beta0=[slope0,yint0]\n",
    "What do you think the slope should be? What do you think the y-intercept should be?\n",
    "''' \n",
    "beta0 = [c/70.,0.]\n",
    "\n",
    "# Instantiate ODR with your data, model and initial parameter estimate.\n",
    "myodr = scipy.odr.ODR(mydata, linear_model, beta0=beta0) "
   ]
  },
  {
   "cell_type": "code",
   "execution_count": null,
   "metadata": {
    "collapsed": true
   },
   "outputs": [],
   "source": [
    "fit = myodr.run()\n",
    "#fit.pprint()\n",
    "\n",
    "beta = fit.beta # get the final parameters in an array called beta\n",
    "betastd = fit.sd_beta # get the standard deviation of the parameters\n",
    "\n",
    "# beta[0] is the slope\n",
    "# beta[1] is the y-intercept"
   ]
  }
 ],
 "metadata": {
  "kernelspec": {
   "display_name": "Python 2",
   "language": "python",
   "name": "python2"
  },
  "language_info": {
   "codemirror_mode": {
    "name": "ipython",
    "version": 2
   },
   "file_extension": ".py",
   "mimetype": "text/x-python",
   "name": "python",
   "nbconvert_exporter": "python",
   "pygments_lexer": "ipython2",
   "version": "2.7.9"
  }
 },
 "nbformat": 4,
 "nbformat_minor": 0
}
