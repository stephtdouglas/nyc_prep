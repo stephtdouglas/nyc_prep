{
 "metadata": {
  "name": "",
  "signature": "sha256:15b6631c8a2496c726e876bd481188e8fd54bf1525b963f287b4b59ffee85e5f"
 },
 "nbformat": 3,
 "nbformat_minor": 0,
 "worksheets": [
  {
   "cells": [
    {
     "cell_type": "code",
     "collapsed": false,
     "input": [
      "import numpy as np\n",
      "from numpy import *\n",
      "import matplotlib.pyplot as plt\n",
      "from astropy.io import fits as pyfits\n",
      "from scipy.optimize import curve_fit\n",
      "import scipy.odr"
     ],
     "language": "python",
     "metadata": {},
     "outputs": [],
     "prompt_number": 49
    },
    {
     "cell_type": "code",
     "collapsed": false,
     "input": [
      "#z, mu, mu_err = loadtxt('/Users/Shark/Desktop/PDP stuff/HubbleData/Davis07_R07_WV07.txt', unpack=True, usecols = [1,2,3])\n",
      "# data set with fewer points\n",
      "# instead of distance modulus, it gives distance in Mpc\n",
      "# and don't use log(z) because these data are at low redshift z<<1\n",
      "z, d, d_err = loadtxt('/Users/Shark/Desktop/PDP stuff/HubbleData/HubbleData2.dat', unpack=True, usecols=[0,1,2])"
     ],
     "language": "python",
     "metadata": {},
     "outputs": [],
     "prompt_number": 12
    },
    {
     "cell_type": "markdown",
     "metadata": {},
     "source": [
      "$z$ is redshift and $d$ is the distance in Mpc"
     ]
    },
    {
     "cell_type": "code",
     "collapsed": false,
     "input": [
      "%matplotlib inline\n",
      "#plt.errorbar(log(z),mu,mu_err,marker='.',markersize=.9,linestyle='none',color='black')\n",
      "plt.errorbar((z),d,d_err,marker='.',markersize=.9,linestyle='none',color='black')\n",
      "plt.xlabel('log $z$')\n",
      "#plt.ylabel('$\\mu$')\n",
      "plt.ylabel('d [Mpc]')\n",
      "plt.title('SNe Ia')"
     ],
     "language": "python",
     "metadata": {},
     "outputs": [
      {
       "metadata": {},
       "output_type": "pyout",
       "prompt_number": 14,
       "text": [
        "<matplotlib.text.Text at 0x107aba490>"
       ]
      },
      {
       "metadata": {},
       "output_type": "display_data",
       "png": "[encoded data removed]",
       "text": [
        "<matplotlib.figure.Figure at 0x10446b110>"
       ]
      }
     ],
     "prompt_number": 14
    },
    {
     "cell_type": "markdown",
     "metadata": {},
     "source": [
      "Plotting without considering error bars:"
     ]
    },
    {
     "cell_type": "code",
     "collapsed": false,
     "input": [
      "def f(x, A, B): # this is your 'straight line' y=f(x)\n",
      "    return A*x + B\n",
      "\n",
      "#logz = log(z)\n",
      "c = 2.99*10**5 #km/s\n",
      "\n",
      "A,B = curve_fit(f,z,d)[0] # fit, xdata, ydata\n",
      "\n",
      "plt.errorbar((z),d,d_err,marker='.',markersize=.9,linestyle='none',color='black')\n",
      "plt.plot(z,f(z,A,B),color='magenta')\n",
      "plt.title('Linear fit with no error analysis')\n",
      "plt.xlabel('z')\n",
      "plt.ylabel('d')\n",
      "\n",
      "print 'slope = ', A\n",
      "print 'y intercept = ', B\n",
      "print 'H = ', c/A"
     ],
     "language": "python",
     "metadata": {},
     "outputs": [
      {
       "output_type": "stream",
       "stream": "stdout",
       "text": [
        "slope =  4448.85819349\n",
        "y intercept =  -12.4335676089\n",
        "H =  67.2082559155\n"
       ]
      },
      {
       "metadata": {},
       "output_type": "display_data",
       "png": "[encoded data removed]",
       "text": [
        "<matplotlib.figure.Figure at 0x10825a990>"
       ]
      }
     ],
     "prompt_number": 26
    },
    {
     "cell_type": "code",
     "collapsed": false,
     "input": [
      "# Now fit a line incorporating y errors\n",
      "def f(x, A, B): # this is your 'straight line' y=f(x)\n",
      "    return A*x + B\n",
      "\n",
      "A,B = curve_fit(f,z,d, sigma=d_err)[0] # fit, xdata, ydata\n",
      "\n",
      "plt.errorbar((z),d,d_err,marker='.',markersize=.9,linestyle='none',color='black')\n",
      "plt.plot(z,f(z,A,B),color='magenta')\n",
      "plt.title('Linear fit with 1D error analysis')\n",
      "plt.xlabel('z')\n",
      "plt.ylabel('d')\n",
      "\n",
      "print 'slope = ', A\n",
      "print 'y intercept = ', B\n",
      "print 'H = ', c/A"
     ],
     "language": "python",
     "metadata": {},
     "outputs": [
      {
       "output_type": "stream",
       "stream": "stdout",
       "text": [
        "slope =  4310.11406336\n",
        "y intercept =  -9.42593756339\n",
        "H =  69.3717139742\n"
       ]
      },
      {
       "metadata": {},
       "output_type": "display_data",
       "png": "[encoded data removed]",
       "text": [
        "<matplotlib.figure.Figure at 0x107ec41d0>"
       ]
      }
     ],
     "prompt_number": 82
    },
    {
     "cell_type": "code",
     "collapsed": false,
     "input": [
      "# create errors on z (PUT THESE IN THE DATA FILE)\n",
      "# by randomly sampling from a normal distribution around 0\n",
      "# can change width\n",
      "z_err = np.random.normal(0.0,10**-3,size=len(z))\n",
      "print z_err"
     ],
     "language": "python",
     "metadata": {},
     "outputs": [
      {
       "output_type": "stream",
       "stream": "stdout",
       "text": [
        "[ 0.00105199  0.00042344 -0.00088087  0.00111101 -0.001033   -0.0007521\n",
        "  0.00075846 -0.00113403 -0.00046149  0.00114607  0.00089191 -0.00052258\n",
        "  0.00090019  0.00029735  0.00036848 -0.00023231 -0.00058974 -0.00058943]\n"
       ]
      }
     ],
     "prompt_number": 88
    },
    {
     "cell_type": "code",
     "collapsed": false,
     "input": [
      "# now fit with orthogonal distance regression (odr) - using both dimensions of error\n",
      "\n",
      "def f(B, x):\n",
      "    '''Linear function y = m*x + b'''\n",
      "    # B is a vector of the parameters.\n",
      "    # x is an array of the current x values.\n",
      "    # x is in the same format as the x passed to Data or RealData.\n",
      "    #\n",
      "    # Return an array in the same format as y passed to Data or RealData.\n",
      "    return B[0]*x + B[1]\n",
      "\n",
      "linear_model = scipy.odr.Model(f) #create a model\n",
      "mydata = scipy.odr.RealData(z, d, sx=z_err, sy=d_err) # Create a data instance (?)\n",
      "'''\n",
      "beta is the array of your parameters:\n",
      "for a line, \n",
      "B[0] = slope\n",
      "B[1] = y-intercept\n",
      "beta0 is the array of your initial guesses for the each parameter. beta0=[slope0,yint0]\n",
      "What do you think the slope should be? What do you think the y-intercept should be?\n",
      "''' \n",
      "beta0 = [c/70.,0.]\n",
      "myodr = scipy.odr.ODR(mydata, linear_model, beta0=beta0) # Instantiate ODR with your data, model and initial parameter estimate.\n",
      "\n",
      "fit = myodr.run()\n",
      "#fit.pprint()\n",
      "\n",
      "beta = fit.beta # get the final parameters in an array called beta\n",
      "betastd = fit.sd_beta # get the standard deviation of the parameters\n",
      "\n",
      "# beta[0] = slope\n",
      "# beta[1] = y-intercept\n",
      "\n",
      "plt.errorbar((z),d,xerr=z_err,yerr=d_err,marker='.',markersize=.9,linestyle='none',color='black')\n",
      "plt.plot(z,f(beta,z),color='magenta')\n",
      "plt.title('Linear fit with no error analysis')\n",
      "plt.xlabel('z')\n",
      "plt.ylabel('d')\n",
      "\n",
      "print 'slope = ', beta[0]\n",
      "print 'y intercept = ', beta[1]\n",
      "print 'H = ', c/beta[0]"
     ],
     "language": "python",
     "metadata": {},
     "outputs": [
      {
       "output_type": "stream",
       "stream": "stdout",
       "text": [
        "slope =  4293.47397557\n",
        "y intercept =  -8.37347369306\n",
        "H =  69.6405758371\n"
       ]
      },
      {
       "metadata": {},
       "output_type": "display_data",
       "png": "[encoded data removed]",
       "text": [
        "<matplotlib.figure.Figure at 0x107ec4ad0>"
       ]
      }
     ],
     "prompt_number": 89
    },
    {
     "cell_type": "code",
     "collapsed": false,
     "input": [],
     "language": "python",
     "metadata": {},
     "outputs": []
    }
   ],
   "metadata": {}
  }
 ]
}